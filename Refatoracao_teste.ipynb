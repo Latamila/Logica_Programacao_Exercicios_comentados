{
  "nbformat": 4,
  "nbformat_minor": 0,
  "metadata": {
    "colab": {
      "provenance": [],
      "authorship_tag": "ABX9TyOBvP/3yYwYPCQBlezPHTO4",
      "include_colab_link": true
    },
    "kernelspec": {
      "name": "python3",
      "display_name": "Python 3"
    },
    "language_info": {
      "name": "python"
    }
  },
  "cells": [
    {
      "cell_type": "markdown",
      "metadata": {
        "id": "view-in-github",
        "colab_type": "text"
      },
      "source": [
        "<a href=\"https://colab.research.google.com/github/Latamila/Logica_Programacao_Exercicios_comentados/blob/main/Refatoracao_teste.ipynb\" target=\"_parent\"><img src=\"https://colab.research.google.com/assets/colab-badge.svg\" alt=\"Open In Colab\"/></a>"
      ]
    },
    {
      "cell_type": "code",
      "execution_count": 3,
      "metadata": {
        "id": "NVjpXwBZkPo-"
      },
      "outputs": [],
      "source": [
        "#lista de temperaturas\n",
        "#pegar temperatura minima e maxima\n",
        "import math\n",
        "import random"
      ]
    },
    {
      "cell_type": "code",
      "source": [
        "def MinMax(list):\n",
        "  minima = min(list)\n",
        "  maxima = max(list)\n",
        "  print(f'A temperatura mínima para Sao paulo este mes foi {minima} ºC')\n",
        "  print(f'A temperatura máxima para Sao paulo este mes foi {maxima} ºC')\n"
      ],
      "metadata": {
        "id": "6G1UBndrkjUl"
      },
      "execution_count": 4,
      "outputs": []
    },
    {
      "cell_type": "code",
      "source": [
        "def listas_temperaturas():\n",
        "  temperaturas=[]\n",
        "  i = 0\n",
        "\n",
        "  while i <= 30:\n",
        "    temperaturas.append(random.randint(-10,45))\n",
        "    i += 1\n",
        "\n",
        "  return temperaturas"
      ],
      "metadata": {
        "id": "vEpOOXVMk3B_"
      },
      "execution_count": 27,
      "outputs": []
    },
    {
      "cell_type": "code",
      "source": [
        "janeiro = listas_temperaturas()\n",
        "print(janeiro)"
      ],
      "metadata": {
        "colab": {
          "base_uri": "https://localhost:8080/"
        },
        "id": "JJc68KdNlE0I",
        "outputId": "ef3dfb06-7206-43f0-f944-ae436e7dccb2"
      },
      "execution_count": 28,
      "outputs": [
        {
          "output_type": "stream",
          "name": "stdout",
          "text": [
            "[8, 7, -6, 9, 19, 37, 33, 0, 30, 27, 10, 30, 25, 17, 19, 40, 13, -10, 33, 7, 30, 31, 18, 11, -3, 3, 8, 21, 27, 15, 14]\n"
          ]
        }
      ]
    },
    {
      "cell_type": "code",
      "source": [
        "min(janeiro)"
      ],
      "metadata": {
        "colab": {
          "base_uri": "https://localhost:8080/"
        },
        "id": "QkMCDhqUk1U6",
        "outputId": "7a75ada4-3d9a-40b1-c0d5-6de01de30359"
      },
      "execution_count": 29,
      "outputs": [
        {
          "output_type": "execute_result",
          "data": {
            "text/plain": [
              "-10"
            ]
          },
          "metadata": {},
          "execution_count": 29
        }
      ]
    },
    {
      "cell_type": "code",
      "source": [
        "max(janeiro)"
      ],
      "metadata": {
        "colab": {
          "base_uri": "https://localhost:8080/"
        },
        "id": "GaRUZAOvmYWf",
        "outputId": "c0ed57b1-ee96-40f6-ba5a-a78ddd017200"
      },
      "execution_count": 30,
      "outputs": [
        {
          "output_type": "execute_result",
          "data": {
            "text/plain": [
              "40"
            ]
          },
          "metadata": {},
          "execution_count": 30
        }
      ]
    },
    {
      "cell_type": "code",
      "source": [
        "MinMax(janeiro)"
      ],
      "metadata": {
        "colab": {
          "base_uri": "https://localhost:8080/"
        },
        "id": "jbeENSOnmyRU",
        "outputId": "d11bd7f1-b108-4e5f-9330-667b36137635"
      },
      "execution_count": 31,
      "outputs": [
        {
          "output_type": "stream",
          "name": "stdout",
          "text": [
            "A temperatura mínima para Sao paulo este mes foi -10 ºC\n",
            "A temperatura máxima para Sao paulo este mes foi 40 ºC\n"
          ]
        }
      ]
    },
    {
      "cell_type": "code",
      "source": [
        "def testes_automatizados():\n",
        "  i = 1\n",
        "  while i <= 10:\n",
        "    print(f'Iniciando Teste {i}')\n",
        "    MinMax(listas_temperaturas())\n",
        "    i += 1\n",
        "    print('\\n')"
      ],
      "metadata": {
        "id": "QdLZHV1EmqkB"
      },
      "execution_count": 37,
      "outputs": []
    },
    {
      "cell_type": "code",
      "source": [
        "testes_automatizados()"
      ],
      "metadata": {
        "colab": {
          "base_uri": "https://localhost:8080/"
        },
        "id": "UjWYnf2InIeU",
        "outputId": "879cdd89-c5d3-4edb-9182-c573e3ebc393"
      },
      "execution_count": 38,
      "outputs": [
        {
          "output_type": "stream",
          "name": "stdout",
          "text": [
            "Iniciando Teste 1\n",
            "A temperatura mínima para Sao paulo este mes foi -7 ºC\n",
            "A temperatura máxima para Sao paulo este mes foi 43 ºC\n",
            "\n",
            "\n",
            "Iniciando Teste 2\n",
            "A temperatura mínima para Sao paulo este mes foi -10 ºC\n",
            "A temperatura máxima para Sao paulo este mes foi 43 ºC\n",
            "\n",
            "\n",
            "Iniciando Teste 3\n",
            "A temperatura mínima para Sao paulo este mes foi -10 ºC\n",
            "A temperatura máxima para Sao paulo este mes foi 45 ºC\n",
            "\n",
            "\n",
            "Iniciando Teste 4\n",
            "A temperatura mínima para Sao paulo este mes foi -10 ºC\n",
            "A temperatura máxima para Sao paulo este mes foi 43 ºC\n",
            "\n",
            "\n",
            "Iniciando Teste 5\n",
            "A temperatura mínima para Sao paulo este mes foi 0 ºC\n",
            "A temperatura máxima para Sao paulo este mes foi 37 ºC\n",
            "\n",
            "\n",
            "Iniciando Teste 6\n",
            "A temperatura mínima para Sao paulo este mes foi -8 ºC\n",
            "A temperatura máxima para Sao paulo este mes foi 44 ºC\n",
            "\n",
            "\n",
            "Iniciando Teste 7\n",
            "A temperatura mínima para Sao paulo este mes foi -9 ºC\n",
            "A temperatura máxima para Sao paulo este mes foi 43 ºC\n",
            "\n",
            "\n",
            "Iniciando Teste 8\n",
            "A temperatura mínima para Sao paulo este mes foi -9 ºC\n",
            "A temperatura máxima para Sao paulo este mes foi 43 ºC\n",
            "\n",
            "\n",
            "Iniciando Teste 9\n",
            "A temperatura mínima para Sao paulo este mes foi -6 ºC\n",
            "A temperatura máxima para Sao paulo este mes foi 44 ºC\n",
            "\n",
            "\n",
            "Iniciando Teste 10\n",
            "A temperatura mínima para Sao paulo este mes foi -7 ºC\n",
            "A temperatura máxima para Sao paulo este mes foi 45 ºC\n",
            "\n",
            "\n"
          ]
        }
      ]
    },
    {
      "cell_type": "code",
      "source": [
        "lista1 = [\"carro\", \"barco\"]\n",
        "lista2 = lista1\n",
        "lista3 = [lista1] * 3\n",
        "lista4 = lista1 * 3"
      ],
      "metadata": {
        "id": "jRnFTho4nQNV"
      },
      "execution_count": 39,
      "outputs": []
    },
    {
      "cell_type": "code",
      "source": [
        "print(lista1)\n"
      ],
      "metadata": {
        "colab": {
          "base_uri": "https://localhost:8080/"
        },
        "id": "vzFQdlNQpuUV",
        "outputId": "16a63ce5-abaf-4309-e8b2-b822b8fd1d3b"
      },
      "execution_count": 47,
      "outputs": [
        {
          "output_type": "stream",
          "name": "stdout",
          "text": [
            "['carro', 'barco']\n"
          ]
        }
      ]
    },
    {
      "cell_type": "code",
      "source": [
        "print(lista2)"
      ],
      "metadata": {
        "colab": {
          "base_uri": "https://localhost:8080/"
        },
        "id": "Fmj4iSKzpxvM",
        "outputId": "9f9455b3-b7e2-4582-d1c6-051d5aa6ec76"
      },
      "execution_count": 48,
      "outputs": [
        {
          "output_type": "stream",
          "name": "stdout",
          "text": [
            "['carro', 'barco']\n"
          ]
        }
      ]
    },
    {
      "cell_type": "code",
      "source": [
        "print(lista3)"
      ],
      "metadata": {
        "colab": {
          "base_uri": "https://localhost:8080/"
        },
        "id": "ijOw0de3p2q1",
        "outputId": "365ae496-b818-4625-fbc3-080050095b77"
      },
      "execution_count": 49,
      "outputs": [
        {
          "output_type": "stream",
          "name": "stdout",
          "text": [
            "[['carro', 'barco'], ['carro', 'barco'], ['carro', 'barco']]\n"
          ]
        }
      ]
    },
    {
      "cell_type": "code",
      "source": [
        "print(lista4)\n"
      ],
      "metadata": {
        "colab": {
          "base_uri": "https://localhost:8080/"
        },
        "id": "ubwfof7hqEdN",
        "outputId": "7f88978b-ea1c-41aa-b614-e7239d2f4ef1"
      },
      "execution_count": 50,
      "outputs": [
        {
          "output_type": "stream",
          "name": "stdout",
          "text": [
            "['carro', 'barco', 'carro', 'barco', 'carro', 'barco']\n"
          ]
        }
      ]
    },
    {
      "cell_type": "code",
      "source": [
        "lista1 = [\"carro\", \"barco\"]\n",
        "lista2 = [[\"carro\", \"barco\"], [\"carro\", \"barco\"], [\"carro\", \"barco\"]]\n",
        "lista3 = [\"carro\", \"barco\", \"carro\", \"barco\", \"carro\", \"barco\"]\n",
        "lista1[1] = \"metrô\""
      ],
      "metadata": {
        "id": "quNVrZ8lq_yf"
      },
      "execution_count": 51,
      "outputs": []
    },
    {
      "cell_type": "code",
      "source": [
        "print(lista1)"
      ],
      "metadata": {
        "colab": {
          "base_uri": "https://localhost:8080/"
        },
        "id": "Jig4WwPtrJaz",
        "outputId": "9deee32c-2f0d-4df6-cfd5-d146654d207f"
      },
      "execution_count": 52,
      "outputs": [
        {
          "output_type": "stream",
          "name": "stdout",
          "text": [
            "['carro', 'metrô']\n"
          ]
        }
      ]
    },
    {
      "cell_type": "code",
      "source": [
        "print(lista2)"
      ],
      "metadata": {
        "colab": {
          "base_uri": "https://localhost:8080/"
        },
        "id": "FXRsJ4-mrNKs",
        "outputId": "9e48dba9-3660-4da3-bfd6-cfd50f64b639"
      },
      "execution_count": 53,
      "outputs": [
        {
          "output_type": "stream",
          "name": "stdout",
          "text": [
            "[['carro', 'barco'], ['carro', 'barco'], ['carro', 'barco']]\n"
          ]
        }
      ]
    },
    {
      "cell_type": "code",
      "source": [
        "print(lista3)"
      ],
      "metadata": {
        "colab": {
          "base_uri": "https://localhost:8080/"
        },
        "id": "1RfKsNg7rQNM",
        "outputId": "44b8612d-d8cb-44e7-8bcf-b363774f6f68"
      },
      "execution_count": 55,
      "outputs": [
        {
          "output_type": "stream",
          "name": "stdout",
          "text": [
            "['carro', 'barco', 'carro', 'barco', 'carro', 'barco']\n"
          ]
        }
      ]
    },
    {
      "cell_type": "code",
      "source": [
        "lista1 = [\"carro\", \"barco\"]\n",
        "lista2 = [lista1] * 3\n",
        "lista3 = lista1 * 3\n",
        "lista1[1] = \"metrô\""
      ],
      "metadata": {
        "id": "Qicv5Lz6rRoV"
      },
      "execution_count": 60,
      "outputs": []
    },
    {
      "cell_type": "code",
      "source": [
        "print(lista1)"
      ],
      "metadata": {
        "colab": {
          "base_uri": "https://localhost:8080/"
        },
        "id": "yt7g6ZPPrh_t",
        "outputId": "70c5c5fa-158f-4ce3-d35b-7f8736193695"
      },
      "execution_count": 61,
      "outputs": [
        {
          "output_type": "stream",
          "name": "stdout",
          "text": [
            "['carro', 'metrô']\n"
          ]
        }
      ]
    },
    {
      "cell_type": "code",
      "source": [
        "print(lista2)"
      ],
      "metadata": {
        "colab": {
          "base_uri": "https://localhost:8080/"
        },
        "id": "bDubzpm6rkmt",
        "outputId": "21424ecd-37b5-4818-f4b7-3d2861b322ed"
      },
      "execution_count": 62,
      "outputs": [
        {
          "output_type": "stream",
          "name": "stdout",
          "text": [
            "[['carro', 'metrô'], ['carro', 'metrô'], ['carro', 'metrô']]\n"
          ]
        }
      ]
    },
    {
      "cell_type": "code",
      "source": [
        "print(lista3)"
      ],
      "metadata": {
        "colab": {
          "base_uri": "https://localhost:8080/"
        },
        "id": "-J96ixNQrl_j",
        "outputId": "7f07e888-1bec-4fa5-977e-6573dd1e60b8"
      },
      "execution_count": 59,
      "outputs": [
        {
          "output_type": "stream",
          "name": "stdout",
          "text": [
            "['carro', 'barco', 'carro', 'barco', 'carro', 'barco']\n"
          ]
        }
      ]
    },
    {
      "cell_type": "code",
      "source": [],
      "metadata": {
        "id": "QFWRPEOuroFX"
      },
      "execution_count": null,
      "outputs": []
    }
  ]
}